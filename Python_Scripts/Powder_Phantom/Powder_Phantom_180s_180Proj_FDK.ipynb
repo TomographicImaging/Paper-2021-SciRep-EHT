{
 "cells": [
  {
   "cell_type": "code",
   "execution_count": null,
   "id": "e1279621",
   "metadata": {},
   "outputs": [],
   "source": [
    "from cil.framework import AcquisitionGeometry, ImageGeometry\n",
    "from cil.io import NEXUSDataWriter\n",
    "from cil.plugins.astra.processors import FBP\n",
    "from cil.utilities.display import show2D\n",
    "from utils import download_zenodo\n",
    "\n",
    "import numpy as np\n",
    "import scipy.io as sio\n",
    "import matplotlib.pyplot as plt\n",
    "import time\n",
    "\n",
    "import os"
   ]
  },
  {
   "cell_type": "markdown",
   "id": "571f0b3f",
   "metadata": {},
   "source": [
    "**First we need to download the raw data files used for reconstruction from [Zenodo](https://zenodo.org/record/5825464). For the powder phantom, there are three main datasets:**\n",
    "\n",
    "1) powder_phantom_180s_sinogram.mat (Matlab file for Scan A dataset of 180 projections, 180s exposure time. The dataset has already been flatfield corrected).\n",
    "\n",
    "2) powder_phantom_30s_sinogram.mat (Matlab file for Scan B dataset of 30 projections, 30s exposure time. The dataset has already been flatfield corrected).\n",
    "\n",
    "3) Energy_axis.mat (Matlab file providing the direct energy-channel conversion, useful for analysing reconstructed datasets at different channels or different energies).\n",
    "\n",
    "This may take some time.  \n",
    "\n",
    "**Note:** The `download_zenodo` function requires the `wget` python package to access Zenodo files. If you don't have it, you can install using the command `conda install -c conda-forge python-wget`.\n",
    "\n",
    "**Note 2:** You can skip this part if you already downloaded the powder data from the accompanying script `Powder_Phantom_30s_30Proj_FDK_TVTGV.ipynb`."
   ]
  },
  {
   "cell_type": "code",
   "execution_count": null,
   "id": "67345773",
   "metadata": {},
   "outputs": [],
   "source": [
    "download_zenodo()"
   ]
  },
  {
   "cell_type": "code",
   "execution_count": null,
   "id": "67400ccd",
   "metadata": {},
   "outputs": [],
   "source": [
    "#%% Read data for Scan A datasets\n",
    "pathname = os.path.abspath(\"MatlabData/\")\n",
    "      \n",
    "# Scan A dataset - 180s, 180 projections\n",
    "datafile = \"Powder_phantom_180s_180Proj_sinogram.mat\"\n",
    "\n",
    "path = os.path.join(pathname,datafile)\n",
    "\n",
    "tmp_X = sio.loadmat(path)   \n",
    "X = tmp_X['S_180_180']\n",
    "\n",
    "# Read Energy-Channel conversion\n",
    "tmp_energy_channels = sio.loadmat(pathname + \"/Energy_axis.mat\")\n",
    "ekeV = tmp_energy_channels['E_axis']\n",
    "ekeV_crop = ekeV[0][99:199]"
   ]
  },
  {
   "cell_type": "markdown",
   "id": "aae3d48d",
   "metadata": {},
   "source": [
    "Sinogram raw data shape is [Vertical, Angles, Horizontal, Channels].  \n",
    "However we need it in the shape [Channels, Vertical, Angles, Horizontal].  \n",
    "We reorder using `np.swapaxes`"
   ]
  },
  {
   "cell_type": "code",
   "execution_count": null,
   "id": "ba722c09",
   "metadata": {},
   "outputs": [],
   "source": [
    "print('Original Shape: {}'.format(X.shape))\n",
    "X = np.swapaxes(X, 0, 3)\n",
    "X = np.swapaxes(X, 1, 2)\n",
    "print('Reordered Shape: {}'.format(X.shape))"
   ]
  },
  {
   "cell_type": "code",
   "execution_count": null,
   "id": "27a7a862",
   "metadata": {},
   "outputs": [],
   "source": [
    "#%% Crop and rotate data to match data in paper\n",
    "\n",
    "X = X[99:199] # Crop data to reduced channel subset (channels 100-200)\n",
    "X = np.transpose(X,(0,3,2,1)) # Rotate data\n",
    "print('Reduced Shape: {}'.format(X.shape))"
   ]
  },
  {
   "cell_type": "code",
   "execution_count": null,
   "id": "65071752",
   "metadata": {},
   "outputs": [],
   "source": [
    "#%% Data shape information\n",
    "num_channels = X.shape[0]\n",
    "horizontal = X.shape[3]\n",
    "vertical = X.shape[1]\n",
    "num_angles = X.shape[2]\n",
    "\n",
    "angles = np.linspace(-180+45,180+45,num_angles,endpoint=False)*np.pi/180"
   ]
  },
  {
   "cell_type": "code",
   "execution_count": null,
   "id": "ba1b4621",
   "metadata": {},
   "outputs": [],
   "source": [
    "#%% Define imaging scan metadata\n",
    "\n",
    "# Scan parameters\n",
    "distance_source_center = 318.0  # [mm]\n",
    "distance_center_detector = 492.0  # [mm]\n",
    "detector_pixel_size = 0.25  # [mm]"
   ]
  },
  {
   "cell_type": "code",
   "execution_count": null,
   "id": "1075e3e2",
   "metadata": {},
   "outputs": [],
   "source": [
    "#%% Define AcquisitionGeometry from imaging scan parameters\n",
    "\n",
    "ag = AcquisitionGeometry.create_Cone3D(source_position = [0,-distance_source_center,0],\n",
    "                                       detector_position = [0,distance_center_detector,0])\\\n",
    "                                     .set_panel([horizontal,vertical],[detector_pixel_size,detector_pixel_size])\\\n",
    "                                     .set_channels(num_channels)\\\n",
    "                                     .set_angles(-angles,angle_unit=\"radian\")\\\n",
    "                                     .set_labels(['channel', 'vertical', 'angle', 'horizontal'])\n",
    "\n",
    "# Create the 4D acquisition data\n",
    "data = ag.allocate()\n",
    "data.fill(X)\n",
    "\n",
    "print(data)"
   ]
  },
  {
   "cell_type": "code",
   "execution_count": null,
   "id": "d0470400",
   "metadata": {},
   "outputs": [],
   "source": [
    "# Get the ImageGeometry directly from the AcquisitionGeometry using ig = ag.get_ImageGeometry()\n",
    "\n",
    "ig = ag.get_ImageGeometry()"
   ]
  },
  {
   "cell_type": "code",
   "execution_count": null,
   "id": "2a362358",
   "metadata": {},
   "outputs": [],
   "source": [
    "#%% Plot Sinogram over different energies\n",
    "\n",
    "from mpl_toolkits.axes_grid1 import AxesGrid\n",
    "\n",
    "recons = [X[0,40,:,:], \n",
    "          X[25,40,:,:],\n",
    "          X[50,40,:,:], \n",
    "          X[75,40,:,:]]\n",
    "\n",
    "labels_text = ['{:.2f} keV'.format(ekeV_crop[0]), '{:.2f} keV'.format(ekeV_crop[25]),\n",
    "               '{:.2f} keV'.format(ekeV_crop[50]), '{:.2f} keV'.format(ekeV_crop[75])]\n",
    "\n",
    "# set fontsize xticks/yticks\n",
    "plt.rcParams['xtick.labelsize']=15\n",
    "plt.rcParams['ytick.labelsize']=15\n",
    "\n",
    "fig = plt.figure(figsize=(12, 12))\n",
    "\n",
    "grid = AxesGrid(fig, 111,\n",
    "                nrows_ncols=(1, 4),\n",
    "                axes_pad=0.05,\n",
    "                cbar_mode='single',\n",
    "                cbar_location='right',\n",
    "                cbar_size = 0.5,\n",
    "                cbar_pad=0.1\n",
    "                )\n",
    "\n",
    "k = 0\n",
    "\n",
    "for ax in grid:\n",
    "    im = ax.imshow(recons[k], cmap=\"inferno\", vmin = 0.0, vmax = 3.0)   \n",
    "    \n",
    "    if k==0:\n",
    "        ax.set_title(labels_text[0],fontsize=20)\n",
    "    if k==1:\n",
    "        ax.set_title(labels_text[1],fontsize=20)  \n",
    "    if k==2:\n",
    "        ax.set_title(labels_text[2],fontsize=20)  \n",
    "    if k==3:\n",
    "        ax.set_title(labels_text[3],fontsize=20)  \n",
    "    \n",
    "    ax.set_xticks([])\n",
    "    ax.set_yticks([])\n",
    "    k+=1\n",
    "\n",
    "cbar = grid.cbar_axes[0].colorbar(im,ticks=[0.0,0.5,1,1.5,2,2.5,3])"
   ]
  },
  {
   "cell_type": "code",
   "execution_count": null,
   "id": "0961ab39",
   "metadata": {},
   "outputs": [],
   "source": [
    "# Setup the tomography operator for 3D hyperspectral data using the AcquisitionGeometry and ImageGeometry\n",
    "\n",
    "ag3D = ag.get_slice(channel=0)\n",
    "ig3D = ag3D.get_ImageGeometry()"
   ]
  },
  {
   "cell_type": "markdown",
   "id": "b77e97a0",
   "metadata": {},
   "source": [
    "## FDK Reconstruction"
   ]
  },
  {
   "cell_type": "code",
   "execution_count": null,
   "id": "809e3455",
   "metadata": {},
   "outputs": [],
   "source": [
    "# Allocate space for the FBP_4D recon\n",
    "\n",
    "FBP_recon_4D = ig.allocate()\n",
    "\n",
    "t = time.time()\n",
    "\n",
    "# FBP reconstruction per channel\n",
    "for i in range(ig.channels):\n",
    "    \n",
    "    FBP_recon_3D = FBP(ig3D, ag3D, 'gpu')(data.get_slice(channel=i))\n",
    "    FBP_recon_4D.fill(FBP_recon_3D, channel=i)\n",
    "    \n",
    "    print(\"Finish FBP recon for channel {}\".format(i), end='\\r')\n",
    "    \n",
    "print(\"\\nFDK Reconstruction Complete!\")\n",
    "tot = time.time() - t\n",
    "print('Runtime: {} s'.format(tot))"
   ]
  },
  {
   "cell_type": "code",
   "execution_count": null,
   "id": "86d0c165",
   "metadata": {},
   "outputs": [],
   "source": [
    "#Test image\n",
    "\n",
    "plt.imshow(FBP_recon_4D.as_array()[50,40,:,:],cmap='inferno')"
   ]
  },
  {
   "cell_type": "code",
   "execution_count": null,
   "id": "4ba77f61",
   "metadata": {},
   "outputs": [],
   "source": [
    "#%% Save as nxs file with NEXUSDataWriter\n",
    "\n",
    "name = \"Powder_180s_180Proj_FDK.nxs\"\n",
    "writer = NEXUSDataWriter(file_name = \"HyperspectralData/\" + name,\n",
    "                         data = FBP_recon_4D)\n",
    "writer.write()"
   ]
  }
 ],
 "metadata": {
  "kernelspec": {
   "display_name": "Python 3 (ipykernel)",
   "language": "python",
   "name": "python3"
  },
  "language_info": {
   "codemirror_mode": {
    "name": "ipython",
    "version": 3
   },
   "file_extension": ".py",
   "mimetype": "text/x-python",
   "name": "python",
   "nbconvert_exporter": "python",
   "pygments_lexer": "ipython3",
   "version": "3.9.7"
  }
 },
 "nbformat": 4,
 "nbformat_minor": 5
}
